{
 "cells": [
  {
   "cell_type": "markdown",
   "id": "e943ae75-0020-4aa2-84a8-e923f07d6513",
   "metadata": {},
   "source": [
    "Q1. Which function is used to open a file? What are the different modes of opening a file? Explain each mode\n",
    "of file opening."
   ]
  },
  {
   "cell_type": "markdown",
   "id": "6750f5c7-c99a-4f4d-9221-ba134bd195c6",
   "metadata": {},
   "source": [
    "The open() function is used to open a file. When opening a file, you can specify the mode in which the file should be opened. The different modes are:\n",
    "\n",
    "'r': Read mode is used when you only want to read the file. This is the default mode.\n",
    "\n",
    "'w': Write mode is used when you want to write to the file. If the file already exists, the content is truncated (deleted). If the file does not exist, a new file is created.\n",
    "\n",
    "'a': Append mode is used when you want to append data to the end of an existing file. If the file does not exist, a new file is created.\n",
    "\n",
    "'x': Exclusive creation mode is used when you want to create a new file but only if the file does not already exist. If the file exists, the FileExistsError is raised.\n",
    "\n",
    "'b': Binary mode is used when you want to read or write binary data. When used in combination with other modes, it should be appended as a suffix to the mode string. For example, 'wb' for write in binary mode, or 'rb' for read in binary mode.\n",
    "\n",
    "'t': Text mode is used when you want to read or write text data. When used in combination with other modes, it should be appended as a suffix to the mode string. For example, 'wt' for write in text mode, or 'rt' for read in text mode."
   ]
  },
  {
   "cell_type": "markdown",
   "id": "c213baff-dd72-436a-b03d-0cf97ef34708",
   "metadata": {},
   "source": [
    "Q2. Why close() function is used? Why is it important to close a file?"
   ]
  },
  {
   "cell_type": "markdown",
   "id": "07ff4e2f-f2bb-4ea0-bc3d-8326798a1ee5",
   "metadata": {},
   "source": [
    "The close() function is used to close a file in Python. It's important to close a file after we're done with it because it frees up resources on your computer and ensures that the file's data is saved correctly.\n",
    "\n",
    "When a file is opened, the operating system reserves a specific amount of memory to hold the file's contents and to keep track of where you are in the file (known as the file pointer). This memory is not freed until the file is closed, which means that if you open a large number of files without closing them, your computer could run out of memory.\n",
    "\n",
    "Furthermore, when you write to a file, the data is not immediately saved to the file on your hard drive. Instead, it's temporarily stored in a buffer (a small area of memory) and is only saved to the file when the buffer is flushed (that is, when it's full or when the file is closed). If we don't close the file, the data in the buffer may be lost if the program terminates before the buffer is flushed.\n",
    "\n",
    "Therefore, it's a best practice to always close a file after we're done with it, to avoid running out of memory and to ensure that the file's data is saved correctly. This can be done using the close() method, as shown in the example I provided in my previous answer. Another way to ensure that a file is closed is to use a with statement, which automatically closes the file for you when the block of code is finished, even if an exception is raised:"
   ]
  },
  {
   "cell_type": "markdown",
   "id": "04eed09e-1aaa-40d2-8218-d47d91d8b481",
   "metadata": {},
   "source": [
    "Q3. Write a python program to create a text file. Write ‘I want to become a Data Scientist’ in that file. Then\n",
    "    close the file. Open this file and read the content of the file. "
   ]
  },
  {
   "cell_type": "code",
   "execution_count": 1,
   "id": "11993cba-9bc2-4672-b955-203304e75092",
   "metadata": {},
   "outputs": [
    {
     "name": "stdout",
     "output_type": "stream",
     "text": [
      "I want to become a Data Scientist\n"
     ]
    }
   ],
   "source": [
    "with open(\"simple.text\",\"w\") as file:\n",
    "    file.write(\"I want to become a Data Scientist\")\n",
    "    \n",
    "    \n",
    "with open(\"simple.text\",\"r\") as file:\n",
    "    content = file.read()\n",
    "    print(content)\n",
    "file.close()\n",
    "    "
   ]
  },
  {
   "cell_type": "markdown",
   "id": "990c6bfd-6c5c-4e84-93c2-da6b01d0529d",
   "metadata": {},
   "source": [
    "Q4. Explain the following with python code: read(), readline() and readlines().\n",
    "\n"
   ]
  },
  {
   "cell_type": "markdown",
   "id": "78f36a4b-f76c-4b95-97d0-1b4dcd5dda3a",
   "metadata": {},
   "source": [
    "read()\n",
    "The read() method reads the entire contents of a file and returns it as a string. You can specify the number of characters you want to read as an optional parameter. If you don't specify a number, the entire file is read. Here's an example:"
   ]
  },
  {
   "cell_type": "code",
   "execution_count": 2,
   "id": "c781f75d-408c-4f55-91e4-23ca30781056",
   "metadata": {},
   "outputs": [
    {
     "name": "stdout",
     "output_type": "stream",
     "text": [
      "I want to become a Data Scientist\n"
     ]
    }
   ],
   "source": [
    "file = open(\"simple.text\",\"r\")\n",
    "\n",
    "\n",
    "content = file.read()\n",
    "\n",
    "file.close()\n",
    "\n",
    "print(content)\n",
    "    "
   ]
  },
  {
   "cell_type": "markdown",
   "id": "a135467e-d398-4e2e-918d-3378ac5c7925",
   "metadata": {},
   "source": [
    "The readline() method reads one line at a time from a file. Each time you call readline(), it reads the next line in the file. If you reach the end of the file, readline() will return an empty string. Here's an example:"
   ]
  },
  {
   "cell_type": "code",
   "execution_count": 4,
   "id": "ee319c51-48d4-4235-97ef-1b6ec3516422",
   "metadata": {},
   "outputs": [
    {
     "name": "stdout",
     "output_type": "stream",
     "text": [
      "I want to become a Data Scientist\n",
      "\n"
     ]
    }
   ],
   "source": [
    "file = open(\"simple.text\",\"r\")\n",
    "\n",
    "line1 = file.readline()\n",
    "line2 = file.readline()\n",
    "\n",
    "file.close()\n",
    "\n",
    "print(line1)\n",
    "print(line2)"
   ]
  },
  {
   "cell_type": "markdown",
   "id": "62b0cc9b-9ca0-4999-961d-bf58f6f5d427",
   "metadata": {},
   "source": [
    "The readlines() method reads all the lines in a file and returns them as a list of strings. Each string in the list represents a line in the file. Here's an example:"
   ]
  },
  {
   "cell_type": "code",
   "execution_count": 6,
   "id": "932ff244-0f7e-43f4-94ca-e4fac00e2928",
   "metadata": {},
   "outputs": [
    {
     "name": "stdout",
     "output_type": "stream",
     "text": [
      "I want to become a Data Scientist\n"
     ]
    }
   ],
   "source": [
    "file = open(\"simple.text\",\"r\")\n",
    "\n",
    "lines = file.readlines()\n",
    "\n",
    "file.close()\n",
    "\n",
    "for line in lines:\n",
    "    print(line)"
   ]
  },
  {
   "cell_type": "markdown",
   "id": "b54a3ff9-26b2-4c38-a213-1ac7fc43717a",
   "metadata": {},
   "source": [
    "Q5. Explain why with statement is used with open(). What is the advantage of using with statement and\n",
    "open() together?"
   ]
  },
  {
   "cell_type": "markdown",
   "id": "3458ad7a-6a02-4782-b95e-fb61b371fb03",
   "metadata": {},
   "source": [
    "In Python, the with statement is used in conjunction with open() function when working with files. The with statement is used to ensure that a file is closed automatically after the block of code inside the with statement is executed, regardless of whether the code finishes successfully or not. The with statement handles the closing of the file automatically, so you don't have to worry about it. The with statement opens the file and assigns it to the file variable. The block of code inside the with statement reads the contents of the file using the read() method, and prints it to the console. Once the block of code is done executing, the with statement automatically closes the file.\n",
    "\n",
    "The main advantage of using with statement and open() together is that it helps avoid common errors that can occur when working with files, such as forgetting to close a file after opening it or not handling exceptions properly. By using the with statement, you can ensure that the file is closed properly, even if an exception is raised during the execution of the block of code.\n",
    "\n",
    "In summary, using with statement and open() together provides a cleaner and safer way to work with files in Python, ensuring that files are properly opened and closed and making the code easier to read and maintain."
   ]
  },
  {
   "cell_type": "markdown",
   "id": "3c2ce673-ddda-45bd-bd61-b52c12feb3da",
   "metadata": {},
   "source": [
    "Q6. Explain the write() and writelines() functions. Give a suitable example."
   ]
  },
  {
   "cell_type": "markdown",
   "id": "59234ea6-48e0-4660-81e7-e636f23acc1f",
   "metadata": {},
   "source": [
    "write() function The write() function is used to write a string to a file. It takes a single argument, which is the string to be written to the file. Here's an example:"
   ]
  },
  {
   "cell_type": "code",
   "execution_count": 7,
   "id": "acb62da4-86b0-4685-825e-2ff08531a89b",
   "metadata": {},
   "outputs": [],
   "source": [
    "file = open(\"simple.text\",\"w\")\n",
    "\n",
    "file.write(\"hellow worlds\\n\")\n",
    "\n",
    "file.close()"
   ]
  },
  {
   "cell_type": "markdown",
   "id": "b3f42804-7af5-44d4-bb69-43b6be3c6dee",
   "metadata": {},
   "source": [
    "writelines() function The writelines() function is used to write a list of strings to a file. It takes a single argument, which is a list of strings to be written to the file. Here's an example:"
   ]
  },
  {
   "cell_type": "code",
   "execution_count": null,
   "id": "7dc01b36-d864-413e-9fd8-261064f5fe7e",
   "metadata": {},
   "outputs": [],
   "source": [
    "\n",
    "file = open('example.txt', 'w')\n",
    "\n",
    "\n",
    "lines = ['Line 1\\n', 'Line 2\\n', 'Line 3\\n']\n",
    "file.writelines(lines)\n",
    "\n",
    "\n",
    "file.close()"
   ]
  }
 ],
 "metadata": {
  "kernelspec": {
   "display_name": "Python 3 (ipykernel)",
   "language": "python",
   "name": "python3"
  },
  "language_info": {
   "codemirror_mode": {
    "name": "ipython",
    "version": 3
   },
   "file_extension": ".py",
   "mimetype": "text/x-python",
   "name": "python",
   "nbconvert_exporter": "python",
   "pygments_lexer": "ipython3",
   "version": "3.10.8"
  }
 },
 "nbformat": 4,
 "nbformat_minor": 5
}
